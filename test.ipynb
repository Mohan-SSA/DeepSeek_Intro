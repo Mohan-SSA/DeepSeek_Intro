{
 "cells": [
  {
   "cell_type": "markdown",
   "id": "35d782ee",
   "metadata": {},
   "source": [
    "### Instantiation\n",
    "- Now we can instantiate our model object and generate chat completions:"
   ]
  },
  {
   "cell_type": "code",
   "execution_count": 10,
   "id": "a42623e8",
   "metadata": {},
   "outputs": [],
   "source": [
    "from langchain_deepseek import ChatDeepSeek\n",
    "\n",
    "llm = ChatDeepSeek(\n",
    "    model=\"deepseek-chat\",\n",
    "    temperature=0,\n",
    "    max_tokens=None,\n",
    "    timeout=None,\n",
    "    max_retries=2,\n",
    "    # other params...\n",
    ")"
   ]
  },
  {
   "cell_type": "code",
   "execution_count": 11,
   "id": "a5b295d2",
   "metadata": {},
   "outputs": [
    {
     "name": "stdout",
     "output_type": "stream",
     "text": [
      "content='Hello! 😊 How can I assist you today?' additional_kwargs={'refusal': None} response_metadata={'token_usage': {'completion_tokens': 11, 'prompt_tokens': 4, 'total_tokens': 15, 'completion_tokens_details': None, 'prompt_tokens_details': {'audio_tokens': None, 'cached_tokens': 0}, 'prompt_cache_hit_tokens': 0, 'prompt_cache_miss_tokens': 4}, 'model_name': 'deepseek-chat', 'system_fingerprint': 'fp_8802369eaa_prod0425fp8', 'id': 'c1e99d81-eb8d-4312-b3b4-48300c632073', 'service_tier': None, 'finish_reason': 'stop', 'logprobs': None} id='run--7de1bab1-b1ce-42b9-882e-488932a845ec-0' usage_metadata={'input_tokens': 4, 'output_tokens': 11, 'total_tokens': 15, 'input_token_details': {'cache_read': 0}, 'output_token_details': {}}\n",
      "content=\"The model you're interacting with is **DeepSeek-V3**. My knowledge is up-to-date until **July 2024**, and I can assist with a wide range of topics, including general knowledge, coding, writing, and more.  \\n\\nIf you're asking about a different model (e.g., OpenAI's GPT, Anthropic's Claude, etc.), let me know, and I can provide comparisons! 😊  \\n\\nIs there anything specific you'd like help with?\" additional_kwargs={'refusal': None} response_metadata={'token_usage': {'completion_tokens': 96, 'prompt_tokens': 11, 'total_tokens': 107, 'completion_tokens_details': None, 'prompt_tokens_details': {'audio_tokens': None, 'cached_tokens': 0}, 'prompt_cache_hit_tokens': 0, 'prompt_cache_miss_tokens': 11}, 'model_name': 'deepseek-chat', 'system_fingerprint': 'fp_8802369eaa_prod0425fp8', 'id': 'e59e1617-f959-41bc-a275-674aa492ebd3', 'service_tier': None, 'finish_reason': 'stop', 'logprobs': None} id='run--376eb2b3-9059-435a-a900-a13b5c88c519-0' usage_metadata={'input_tokens': 11, 'output_tokens': 96, 'total_tokens': 107, 'input_token_details': {'cache_read': 0}, 'output_token_details': {}}\n"
     ]
    }
   ],
   "source": [
    "result_1 = llm.invoke(\"Hello\")\n",
    "print(result_1) \n",
    "result_2 = llm.invoke(\"Can i know what is model name?\")\n",
    "print(result_2) "
   ]
  },
  {
   "cell_type": "code",
   "execution_count": 19,
   "id": "0b3298b1",
   "metadata": {},
   "outputs": [
    {
     "name": "stdout",
     "output_type": "stream",
     "text": [
      "content=\"Yes, **DeepSeek-V3** is the latest version of the **DeepSeek Chat** model. So, when people refer to **DeepSeek-V3**, they are talking about the current iteration of **deepseek-chat**.  \\n\\nYou can access it through the official DeepSeek website or API. Let me know if you'd like more details! 😊\" additional_kwargs={'refusal': None} response_metadata={'token_usage': {'completion_tokens': 77, 'prompt_tokens': 17, 'total_tokens': 94, 'completion_tokens_details': None, 'prompt_tokens_details': {'audio_tokens': None, 'cached_tokens': 0}, 'prompt_cache_hit_tokens': 0, 'prompt_cache_miss_tokens': 17}, 'model_name': 'deepseek-chat', 'system_fingerprint': 'fp_8802369eaa_prod0425fp8', 'id': '8b4495d9-3535-42cc-a55d-6c62e824dad5', 'service_tier': None, 'finish_reason': 'stop', 'logprobs': None} id='run--8d1f6794-76b3-45f3-91c2-61c802c4cd39-0' usage_metadata={'input_tokens': 17, 'output_tokens': 77, 'total_tokens': 94, 'input_token_details': {'cache_read': 0}, 'output_token_details': {}}\n"
     ]
    }
   ],
   "source": [
    "result_4 = llm.invoke(\"DeepSeek-V3 is also known as deepseek-chat?\")\n",
    "print(result_4) "
   ]
  },
  {
   "cell_type": "code",
   "execution_count": 12,
   "id": "bd6bdf4c",
   "metadata": {},
   "outputs": [
    {
     "data": {
      "text/plain": [
       "\"J'adore la programmation.\""
      ]
     },
     "execution_count": 12,
     "metadata": {},
     "output_type": "execute_result"
    }
   ],
   "source": [
    "messages = [\n",
    "    (\n",
    "        \"system\",\n",
    "        \"You are a helpful assistant that translates English to French. Translate the user sentence.\",\n",
    "    ),\n",
    "    (\"human\", \"I love programming.\"),\n",
    "]\n",
    "ai_msg = llm.invoke(messages)\n",
    "ai_msg.content"
   ]
  },
  {
   "cell_type": "markdown",
   "id": "3a6ec854",
   "metadata": {},
   "source": [
    "## Chaning"
   ]
  },
  {
   "cell_type": "code",
   "execution_count": 13,
   "id": "b2eb6be3",
   "metadata": {},
   "outputs": [],
   "source": [
    "from langchain_core.prompts import ChatPromptTemplate\n",
    "\n",
    "prompt = ChatPromptTemplate(\n",
    "    [\n",
    "        (\n",
    "            \"system\",\n",
    "            \"You are a helpful assistant that translates {input_language} to {output_language}.\",\n",
    "        ),\n",
    "        (\"human\", \"{input}\"),\n",
    "    ]\n",
    ")\n",
    "\n",
    "chain = prompt | llm\n",
    "\n",
    "result_3 = chain.invoke(\n",
    "    {\n",
    "        \"input_language\": \"English\",\n",
    "        \"output_language\": \"German\",\n",
    "        \"input\": \"I love programming.\",\n",
    "    }\n",
    ")"
   ]
  },
  {
   "cell_type": "code",
   "execution_count": 17,
   "id": "0a96b05f",
   "metadata": {},
   "outputs": [
    {
     "data": {
      "text/plain": [
       "'Ich liebe Programmieren.  \\n\\n*(Alternative variations depending on context: \"Ich liebe es zu programmieren.\" or \"Ich programmiere gern.\")*  \\n\\nLet me know if you\\'d like a more casual or formal version! 😊'"
      ]
     },
     "execution_count": 17,
     "metadata": {},
     "output_type": "execute_result"
    }
   ],
   "source": [
    "result_3.content"
   ]
  },
  {
   "cell_type": "code",
   "execution_count": 16,
   "id": "42ee78cb",
   "metadata": {},
   "outputs": [
    {
     "data": {
      "text/plain": [
       "{'token_usage': {'completion_tokens': 51,\n",
       "  'prompt_tokens': 18,\n",
       "  'total_tokens': 69,\n",
       "  'completion_tokens_details': None,\n",
       "  'prompt_tokens_details': {'audio_tokens': None, 'cached_tokens': 0},\n",
       "  'prompt_cache_hit_tokens': 0,\n",
       "  'prompt_cache_miss_tokens': 18},\n",
       " 'model_name': 'deepseek-chat',\n",
       " 'system_fingerprint': 'fp_8802369eaa_prod0425fp8',\n",
       " 'id': '52cf2af0-26e6-437f-a2e4-799c87813c2a',\n",
       " 'service_tier': None,\n",
       " 'finish_reason': 'stop',\n",
       " 'logprobs': None}"
      ]
     },
     "execution_count": 16,
     "metadata": {},
     "output_type": "execute_result"
    }
   ],
   "source": [
    "result_3.response_metadata"
   ]
  },
  {
   "cell_type": "code",
   "execution_count": null,
   "id": "d3f759ae",
   "metadata": {},
   "outputs": [],
   "source": []
  }
 ],
 "metadata": {
  "kernelspec": {
   "display_name": "test_2",
   "language": "python",
   "name": "python3"
  },
  "language_info": {
   "codemirror_mode": {
    "name": "ipython",
    "version": 3
   },
   "file_extension": ".py",
   "mimetype": "text/x-python",
   "name": "python",
   "nbconvert_exporter": "python",
   "pygments_lexer": "ipython3",
   "version": "3.12.9"
  }
 },
 "nbformat": 4,
 "nbformat_minor": 5
}
